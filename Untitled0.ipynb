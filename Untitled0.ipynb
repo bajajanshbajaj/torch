{
  "nbformat": 4,
  "nbformat_minor": 0,
  "metadata": {
    "colab": {
      "provenance": [],
      "authorship_tag": "ABX9TyNgC3pabfVPIQVpo0ZiWbcD",
      "include_colab_link": true
    },
    "kernelspec": {
      "name": "python3",
      "display_name": "Python 3"
    },
    "language_info": {
      "name": "python"
    }
  },
  "cells": [
    {
      "cell_type": "markdown",
      "metadata": {
        "id": "view-in-github",
        "colab_type": "text"
      },
      "source": [
        "<a href=\"https://colab.research.google.com/github/bajajanshbajaj/torch/blob/main/Untitled0.ipynb\" target=\"_parent\"><img src=\"https://colab.research.google.com/assets/colab-badge.svg\" alt=\"Open In Colab\"/></a>"
      ]
    },
    {
      "cell_type": "code",
      "execution_count": null,
      "metadata": {
        "id": "qPcTojjlHEAI"
      },
      "outputs": [],
      "source": [
        "import torch"
      ]
    },
    {
      "cell_type": "code",
      "source": [
        "scalar = torch.tensor(5)"
      ],
      "metadata": {
        "id": "2tDOPlNOTGBi"
      },
      "execution_count": null,
      "outputs": []
    },
    {
      "cell_type": "code",
      "source": [
        "scalar"
      ],
      "metadata": {
        "colab": {
          "base_uri": "https://localhost:8080/"
        },
        "id": "lAKQjscOUAEl",
        "outputId": "825431ab-2aa4-4343-a85c-1fa2e89e7d90"
      },
      "execution_count": null,
      "outputs": [
        {
          "output_type": "execute_result",
          "data": {
            "text/plain": [
              "tensor(5)"
            ]
          },
          "metadata": {},
          "execution_count": 3
        }
      ]
    },
    {
      "cell_type": "code",
      "source": [
        "scalar.shape"
      ],
      "metadata": {
        "colab": {
          "base_uri": "https://localhost:8080/"
        },
        "id": "D067LN5_UCxa",
        "outputId": "788579f0-0797-4df6-ee3b-a4d2bd93549a"
      },
      "execution_count": null,
      "outputs": [
        {
          "output_type": "execute_result",
          "data": {
            "text/plain": [
              "torch.Size([])"
            ]
          },
          "metadata": {},
          "execution_count": 4
        }
      ]
    },
    {
      "cell_type": "code",
      "source": [
        "scalar.ndim"
      ],
      "metadata": {
        "colab": {
          "base_uri": "https://localhost:8080/"
        },
        "id": "kmi5-MJ4UEp6",
        "outputId": "d252a194-4351-488b-f4fa-00d69ba320f7"
      },
      "execution_count": null,
      "outputs": [
        {
          "output_type": "execute_result",
          "data": {
            "text/plain": [
              "0"
            ]
          },
          "metadata": {},
          "execution_count": 5
        }
      ]
    },
    {
      "cell_type": "code",
      "source": [
        "random_tensor = torch.rand(4,7,8)"
      ],
      "metadata": {
        "id": "LtLs8UFYrEsW"
      },
      "execution_count": null,
      "outputs": []
    },
    {
      "cell_type": "code",
      "source": [
        "random_tensor.ndim"
      ],
      "metadata": {
        "colab": {
          "base_uri": "https://localhost:8080/"
        },
        "id": "Gtvb1yHAtXBL",
        "outputId": "95100c24-ec1f-4fc7-fefa-6716c90011b0"
      },
      "execution_count": null,
      "outputs": [
        {
          "output_type": "execute_result",
          "data": {
            "text/plain": [
              "3"
            ]
          },
          "metadata": {},
          "execution_count": 7
        }
      ]
    },
    {
      "cell_type": "code",
      "source": [
        "torch.zeros(size = (5,6), dtype= torch.int16  ),"
      ],
      "metadata": {
        "colab": {
          "base_uri": "https://localhost:8080/"
        },
        "id": "fjQQWfG_tgLq",
        "outputId": "83db5ce5-1d7a-4c32-a437-53b2bcada739"
      },
      "execution_count": null,
      "outputs": [
        {
          "output_type": "execute_result",
          "data": {
            "text/plain": [
              "(tensor([[0, 0, 0, 0, 0, 0],\n",
              "         [0, 0, 0, 0, 0, 0],\n",
              "         [0, 0, 0, 0, 0, 0],\n",
              "         [0, 0, 0, 0, 0, 0],\n",
              "         [0, 0, 0, 0, 0, 0]], dtype=torch.int16),)"
            ]
          },
          "metadata": {},
          "execution_count": 8
        }
      ]
    },
    {
      "cell_type": "code",
      "source": [
        "torch.arange(0,25,5)"
      ],
      "metadata": {
        "colab": {
          "base_uri": "https://localhost:8080/"
        },
        "id": "Juqyssftt0xG",
        "outputId": "b5a19273-ace5-4f2b-cbc5-40f7b2c92c64"
      },
      "execution_count": null,
      "outputs": [
        {
          "output_type": "execute_result",
          "data": {
            "text/plain": [
              "tensor([ 0,  5, 10, 15, 20])"
            ]
          },
          "metadata": {},
          "execution_count": 9
        }
      ]
    },
    {
      "cell_type": "code",
      "source": [
        "torch.zeros_like(torch.arange(0,25,5))"
      ],
      "metadata": {
        "colab": {
          "base_uri": "https://localhost:8080/"
        },
        "id": "1weOZl2duEU4",
        "outputId": "33060f0d-75b8-4830-cc95-d564c398020b"
      },
      "execution_count": null,
      "outputs": [
        {
          "output_type": "execute_result",
          "data": {
            "text/plain": [
              "tensor([0, 0, 0, 0, 0])"
            ]
          },
          "metadata": {},
          "execution_count": 10
        }
      ]
    },
    {
      "cell_type": "code",
      "source": [
        "random_tensor"
      ],
      "metadata": {
        "colab": {
          "base_uri": "https://localhost:8080/"
        },
        "id": "41Ts87AtuQGG",
        "outputId": "306707d4-4ea6-49d4-a982-b04060ceceac"
      },
      "execution_count": null,
      "outputs": [
        {
          "output_type": "execute_result",
          "data": {
            "text/plain": [
              "tensor([[[0.6383, 0.0080, 0.5833, 0.5348, 0.7746, 0.1411, 0.0870, 0.0236],\n",
              "         [0.1311, 0.8722, 0.1991, 0.4727, 0.9981, 0.1109, 0.7395, 0.2843],\n",
              "         [0.0427, 0.0361, 0.0803, 0.6483, 0.6496, 0.2424, 0.4940, 0.0330],\n",
              "         [0.7994, 0.6023, 0.2683, 0.9439, 0.5434, 0.9811, 0.1650, 0.5577],\n",
              "         [0.0025, 0.2698, 0.7215, 0.5964, 0.7320, 0.6010, 0.7864, 0.4785],\n",
              "         [0.8445, 0.0109, 0.5243, 0.9006, 0.5696, 0.4181, 0.8886, 0.4305],\n",
              "         [0.9335, 0.4231, 0.1116, 0.6903, 0.4818, 0.0945, 0.3941, 0.8691]],\n",
              "\n",
              "        [[0.0065, 0.5713, 0.8739, 0.8549, 0.1210, 0.5673, 0.7367, 0.0961],\n",
              "         [0.4381, 0.8204, 0.3766, 0.7336, 0.9815, 0.4281, 0.3572, 0.7389],\n",
              "         [0.9086, 0.3095, 0.8764, 0.3724, 0.0635, 0.4749, 0.0963, 0.0399],\n",
              "         [0.7085, 0.8452, 0.3671, 0.7882, 0.9438, 0.2059, 0.3175, 0.8256],\n",
              "         [0.0824, 0.9705, 0.4187, 0.5890, 0.7576, 0.2458, 0.5745, 0.5409],\n",
              "         [0.1977, 0.8941, 0.8276, 0.3257, 0.2640, 0.5939, 0.6699, 0.4108],\n",
              "         [0.2693, 0.0920, 0.3337, 0.5966, 0.7843, 0.7013, 0.6982, 0.5635]],\n",
              "\n",
              "        [[0.0218, 0.4490, 0.2475, 0.0109, 0.3227, 0.9541, 0.7352, 0.6921],\n",
              "         [0.4189, 0.7756, 0.3994, 0.1561, 0.1022, 0.4463, 0.1270, 0.6065],\n",
              "         [0.1989, 0.5866, 0.5618, 0.0924, 0.7069, 0.3018, 0.0492, 0.7264],\n",
              "         [0.1338, 0.7254, 0.1149, 0.7344, 0.4405, 0.2675, 0.4905, 0.5001],\n",
              "         [0.1488, 0.3505, 0.9912, 0.8063, 0.9045, 0.5155, 0.8330, 0.1654],\n",
              "         [0.3812, 0.1144, 0.2931, 0.0471, 0.1294, 0.0066, 0.6820, 0.9630],\n",
              "         [0.7909, 0.5192, 0.3279, 0.7109, 0.4946, 0.8733, 0.2679, 0.7096]],\n",
              "\n",
              "        [[0.5796, 0.7591, 0.3350, 0.1727, 0.8913, 0.6607, 0.8555, 0.5113],\n",
              "         [0.9504, 0.0992, 0.3728, 0.6381, 0.2080, 0.0220, 0.7074, 0.9432],\n",
              "         [0.8174, 0.9626, 0.5120, 0.9158, 0.6428, 0.9432, 0.6135, 0.6171],\n",
              "         [0.1238, 0.7986, 0.5022, 0.2154, 0.0835, 0.6637, 0.8054, 0.3908],\n",
              "         [0.5319, 0.6342, 0.6973, 0.5815, 0.8639, 0.5144, 0.7904, 0.7361],\n",
              "         [0.6934, 0.7328, 0.9781, 0.0842, 0.8489, 0.5394, 0.3310, 0.7149],\n",
              "         [0.9475, 0.0062, 0.7075, 0.2757, 0.9663, 0.1364, 0.4798, 0.3590]]])"
            ]
          },
          "metadata": {},
          "execution_count": 11
        }
      ]
    },
    {
      "cell_type": "code",
      "source": [
        "random_tensor.dtype"
      ],
      "metadata": {
        "id": "3vJS2iGAvQsv",
        "colab": {
          "base_uri": "https://localhost:8080/"
        },
        "outputId": "96bcb8f2-5b09-40fa-e3ae-2bb320c5f624"
      },
      "execution_count": null,
      "outputs": [
        {
          "output_type": "execute_result",
          "data": {
            "text/plain": [
              "torch.float32"
            ]
          },
          "metadata": {},
          "execution_count": 12
        }
      ]
    },
    {
      "cell_type": "code",
      "source": [
        "a= torch.randint(size = (4, 6), high=4)"
      ],
      "metadata": {
        "id": "478cAd-rw0FF"
      },
      "execution_count": null,
      "outputs": []
    },
    {
      "cell_type": "code",
      "source": [
        "a"
      ],
      "metadata": {
        "colab": {
          "base_uri": "https://localhost:8080/"
        },
        "id": "5oYrLI8U1vD9",
        "outputId": "d492acc8-14af-4935-a6aa-e744ff6362a2"
      },
      "execution_count": null,
      "outputs": [
        {
          "output_type": "execute_result",
          "data": {
            "text/plain": [
              "tensor([[3, 1, 3, 0, 1, 1],\n",
              "        [3, 1, 3, 0, 3, 2],\n",
              "        [0, 3, 0, 1, 1, 1],\n",
              "        [2, 0, 0, 1, 3, 0]])"
            ]
          },
          "metadata": {},
          "execution_count": 14
        }
      ]
    },
    {
      "cell_type": "code",
      "source": [
        "b= torch.randint(size = (1, 6), high = 3)"
      ],
      "metadata": {
        "id": "T7zSxYdYw7zq"
      },
      "execution_count": null,
      "outputs": []
    },
    {
      "cell_type": "code",
      "source": [
        "b"
      ],
      "metadata": {
        "colab": {
          "base_uri": "https://localhost:8080/"
        },
        "id": "NxFwXdYY1Uos",
        "outputId": "c50b24cd-c078-45c3-f114-9b31502f10f8"
      },
      "execution_count": null,
      "outputs": [
        {
          "output_type": "execute_result",
          "data": {
            "text/plain": [
              "tensor([[0, 2, 2, 0, 1, 0]])"
            ]
          },
          "metadata": {},
          "execution_count": 16
        }
      ]
    },
    {
      "cell_type": "code",
      "source": [
        "a*b"
      ],
      "metadata": {
        "colab": {
          "base_uri": "https://localhost:8080/"
        },
        "id": "Z9aGmC4V1Vvt",
        "outputId": "24fe210b-e2c6-4ea3-f34d-53ce5a139a11"
      },
      "execution_count": null,
      "outputs": [
        {
          "output_type": "execute_result",
          "data": {
            "text/plain": [
              "tensor([[0, 2, 6, 0, 1, 0],\n",
              "        [0, 2, 6, 0, 3, 0],\n",
              "        [0, 6, 0, 0, 1, 0],\n",
              "        [0, 0, 0, 0, 3, 0]])"
            ]
          },
          "metadata": {},
          "execution_count": 17
        }
      ]
    },
    {
      "cell_type": "code",
      "source": [
        "c= torch.randint(size = (6,), high = 4, low =1)\n",
        "c"
      ],
      "metadata": {
        "colab": {
          "base_uri": "https://localhost:8080/"
        },
        "id": "q9ph-FLs11nY",
        "outputId": "df15899d-3825-4e96-cd0b-ed86ad676a72"
      },
      "execution_count": null,
      "outputs": [
        {
          "output_type": "execute_result",
          "data": {
            "text/plain": [
              "tensor([1, 3, 3, 3, 1, 3])"
            ]
          },
          "metadata": {},
          "execution_count": 18
        }
      ]
    },
    {
      "cell_type": "code",
      "source": [
        "a*c"
      ],
      "metadata": {
        "colab": {
          "base_uri": "https://localhost:8080/"
        },
        "id": "Xqx8WuVX2Ars",
        "outputId": "2253da76-73b1-41af-a997-b014577e67c0"
      },
      "execution_count": null,
      "outputs": [
        {
          "output_type": "execute_result",
          "data": {
            "text/plain": [
              "tensor([[3, 3, 9, 0, 1, 3],\n",
              "        [3, 3, 9, 0, 3, 6],\n",
              "        [0, 9, 0, 3, 1, 3],\n",
              "        [2, 0, 0, 3, 3, 0]])"
            ]
          },
          "metadata": {},
          "execution_count": 19
        }
      ]
    },
    {
      "cell_type": "code",
      "source": [
        "d = torch.randint( size = (4,1), high = 6)\n",
        "d"
      ],
      "metadata": {
        "colab": {
          "base_uri": "https://localhost:8080/"
        },
        "id": "ETZZowXA2EUC",
        "outputId": "08456a89-1985-4cd2-8eb4-ad7a5484c89d"
      },
      "execution_count": null,
      "outputs": [
        {
          "output_type": "execute_result",
          "data": {
            "text/plain": [
              "tensor([[2],\n",
              "        [4],\n",
              "        [4],\n",
              "        [5]])"
            ]
          },
          "metadata": {},
          "execution_count": 20
        }
      ]
    },
    {
      "cell_type": "code",
      "source": [
        "d*a"
      ],
      "metadata": {
        "colab": {
          "base_uri": "https://localhost:8080/"
        },
        "id": "vjWPMBba2XRD",
        "outputId": "6dcd8014-3000-4cf3-f293-022a8dc4dc60"
      },
      "execution_count": null,
      "outputs": [
        {
          "output_type": "execute_result",
          "data": {
            "text/plain": [
              "tensor([[ 6,  2,  6,  0,  2,  2],\n",
              "        [12,  4, 12,  0, 12,  8],\n",
              "        [ 0, 12,  0,  4,  4,  4],\n",
              "        [10,  0,  0,  5, 15,  0]])"
            ]
          },
          "metadata": {},
          "execution_count": 21
        }
      ]
    },
    {
      "cell_type": "code",
      "source": [
        "a *d"
      ],
      "metadata": {
        "colab": {
          "base_uri": "https://localhost:8080/"
        },
        "id": "bO6I4hUJ2ZPI",
        "outputId": "584a352e-8d41-4fd5-e702-70cbb709ed22"
      },
      "execution_count": null,
      "outputs": [
        {
          "output_type": "execute_result",
          "data": {
            "text/plain": [
              "tensor([[ 6,  2,  6,  0,  2,  2],\n",
              "        [12,  4, 12,  0, 12,  8],\n",
              "        [ 0, 12,  0,  4,  4,  4],\n",
              "        [10,  0,  0,  5, 15,  0]])"
            ]
          },
          "metadata": {},
          "execution_count": 22
        }
      ]
    },
    {
      "cell_type": "markdown",
      "source": [
        "<iframe src=\"https://docs.pytorch.org/docs/stable/notes/broadcasting.html\" width=\"800\" height=\"400\"></iframe>"
      ],
      "metadata": {
        "id": "o-JjhY-_99cc"
      }
    },
    {
      "cell_type": "code",
      "source": [
        "from IPython.display import IFrame\n",
        "\n",
        "# Example: render Wikipedia\n",
        "IFrame(\"https://docs.pytorch.org/docs/stable/notes/broadcasting.html\", width=1080, height=600)"
      ],
      "metadata": {
        "colab": {
          "base_uri": "https://localhost:8080/",
          "height": 641
        },
        "id": "2NL2VTpT-pW4",
        "outputId": "8111f266-b4ba-4010-8bbf-e0cb23010f9f"
      },
      "execution_count": null,
      "outputs": [
        {
          "output_type": "execute_result",
          "data": {
            "text/plain": [
              "<IPython.lib.display.IFrame at 0x7ddecbb5edb0>"
            ],
            "text/html": [
              "\n",
              "        <iframe\n",
              "            width=\"1080\"\n",
              "            height=\"600\"\n",
              "            src=\"https://docs.pytorch.org/docs/stable/notes/broadcasting.html\"\n",
              "            frameborder=\"0\"\n",
              "            allowfullscreen\n",
              "            \n",
              "        ></iframe>\n",
              "        "
            ]
          },
          "metadata": {},
          "execution_count": 23
        }
      ]
    },
    {
      "cell_type": "code",
      "source": [
        "b"
      ],
      "metadata": {
        "colab": {
          "base_uri": "https://localhost:8080/"
        },
        "id": "pKeMHcHD-5kj",
        "outputId": "5a952906-b863-4a02-b794-f3f8eac666f9"
      },
      "execution_count": null,
      "outputs": [
        {
          "output_type": "execute_result",
          "data": {
            "text/plain": [
              "tensor([[0, 2, 2, 0, 1, 0]])"
            ]
          },
          "metadata": {},
          "execution_count": 24
        }
      ]
    },
    {
      "cell_type": "code",
      "source": [
        "b.flatten(-2)"
      ],
      "metadata": {
        "colab": {
          "base_uri": "https://localhost:8080/"
        },
        "id": "NxIe7i9wIBNx",
        "outputId": "043e4144-e9ff-4772-c928-c482a6e016d0"
      },
      "execution_count": null,
      "outputs": [
        {
          "output_type": "execute_result",
          "data": {
            "text/plain": [
              "tensor([0, 2, 2, 0, 1, 0])"
            ]
          },
          "metadata": {},
          "execution_count": 25
        }
      ]
    },
    {
      "cell_type": "code",
      "source": [
        "b= b.squeeze()"
      ],
      "metadata": {
        "id": "KPkBYz6WID14"
      },
      "execution_count": null,
      "outputs": []
    },
    {
      "cell_type": "markdown",
      "source": [
        "🔹 Example 1: no args\n",
        "x = torch.randn(1, 3, 1, 5)\n",
        "print(x.shape)        # [1, 3, 1, 5]\n",
        "\n",
        "y = x.squeeze()\n",
        "print(y.shape)        # [3, 5]\n",
        "\n",
        "\n",
        "Removed all size-1 dims.\n",
        "\n",
        "🔹 Example 2: with dim\n",
        "x = torch.randn(1, 3, 1, 5)\n",
        "\n",
        "y = x.squeeze(0)    # remove dim 0 (since it's 1)\n",
        "print(y.shape)      # [3, 1, 5]\n",
        "\n",
        "y = x.squeeze(2)    # remove dim 2 (since it's 1)\n",
        "print(y.shape)      # [1, 3, 5]\n",
        "\n",
        "y = x.squeeze(1)    # dim 1 = 3 (not 1), so nothing changes\n",
        "print(y.shape)      # [1, 3, 1, 5]\n",
        "\n",
        "🔹 Comparing with flatten\n",
        "\n",
        "Using your tensor:\n",
        "\n",
        "b = torch.tensor([[0, 2, 0, 2, 2, 2]])\n",
        "print(b.shape)   # [1, 6]\n",
        "\n",
        "print(b.squeeze().shape)    # [6]\n",
        "print(b.squeeze(0).shape)   # [6]\n",
        "print(b.squeeze(1).shape)   # [1, 6] (no change, dim=1 is size 6)\n",
        "print(b.flatten(1).shape)   # [1, 6]\n",
        "\n",
        "\n",
        "✅ Summary\n",
        "\n",
        "squeeze() with no args = remove all size-1 dims.\n",
        "\n",
        "squeeze(dim) = remove that dim only if it’s 1.\n",
        "\n",
        "flatten(start_dim) = collapse dims, doesn’t care if they’re size 1 or not."
      ],
      "metadata": {
        "id": "-Ic6Gi88bctS"
      }
    },
    {
      "cell_type": "markdown",
      "source": [
        "now b is a scalar , so dot product is performed instead of matrix multiply"
      ],
      "metadata": {
        "id": "ESybTFK5KU2q"
      }
    },
    {
      "cell_type": "code",
      "source": [
        "b@b"
      ],
      "metadata": {
        "colab": {
          "base_uri": "https://localhost:8080/"
        },
        "id": "16BEz_LCKsas",
        "outputId": "1e77b8b2-a923-4b58-a1a1-291e7a9bd5ec"
      },
      "execution_count": null,
      "outputs": [
        {
          "output_type": "execute_result",
          "data": {
            "text/plain": [
              "tensor(9)"
            ]
          },
          "metadata": {},
          "execution_count": 27
        }
      ]
    },
    {
      "cell_type": "code",
      "source": [
        "a = torch.randint(size = (4, 6), high=4)\n",
        "b = torch.randint(size = (6, 5), high = 3)"
      ],
      "metadata": {
        "id": "5r-bEEVGKwmL"
      },
      "execution_count": null,
      "outputs": []
    },
    {
      "cell_type": "code",
      "source": [
        "a"
      ],
      "metadata": {
        "colab": {
          "base_uri": "https://localhost:8080/"
        },
        "id": "HG2vVjZhLWAo",
        "outputId": "228a8123-de78-4165-cfac-2f3a2ec23ebb"
      },
      "execution_count": null,
      "outputs": [
        {
          "output_type": "execute_result",
          "data": {
            "text/plain": [
              "tensor([[1, 1, 0, 2, 0, 0],\n",
              "        [2, 0, 1, 0, 1, 2],\n",
              "        [1, 1, 3, 1, 1, 3],\n",
              "        [3, 0, 3, 1, 2, 1]])"
            ]
          },
          "metadata": {},
          "execution_count": 29
        }
      ]
    },
    {
      "cell_type": "code",
      "source": [
        "b"
      ],
      "metadata": {
        "colab": {
          "base_uri": "https://localhost:8080/"
        },
        "id": "vTb9haVyWk5Z",
        "outputId": "450261e6-7269-4182-8477-ca338e9b622e"
      },
      "execution_count": null,
      "outputs": [
        {
          "output_type": "execute_result",
          "data": {
            "text/plain": [
              "tensor([[0, 2, 2, 2, 2],\n",
              "        [2, 1, 2, 0, 2],\n",
              "        [0, 1, 0, 0, 0],\n",
              "        [0, 0, 1, 1, 2],\n",
              "        [0, 1, 2, 2, 1],\n",
              "        [0, 0, 0, 0, 0]])"
            ]
          },
          "metadata": {},
          "execution_count": 30
        }
      ]
    },
    {
      "cell_type": "code",
      "source": [
        "a@b"
      ],
      "metadata": {
        "colab": {
          "base_uri": "https://localhost:8080/"
        },
        "id": "ESX7vMdDWlQ8",
        "outputId": "f859ce2a-59a2-4e0c-a825-4406b0cf9e49"
      },
      "execution_count": null,
      "outputs": [
        {
          "output_type": "execute_result",
          "data": {
            "text/plain": [
              "tensor([[ 2,  3,  6,  4,  8],\n",
              "        [ 0,  6,  6,  6,  5],\n",
              "        [ 2,  7,  7,  5,  7],\n",
              "        [ 0, 11, 11, 11, 10]])"
            ]
          },
          "metadata": {},
          "execution_count": 31
        }
      ]
    },
    {
      "cell_type": "code",
      "source": [
        "torch.transpose(b, 0, 1)"
      ],
      "metadata": {
        "colab": {
          "base_uri": "https://localhost:8080/"
        },
        "id": "3G5vo4QKWm5d",
        "outputId": "7d872128-dbaf-4045-8d0b-384aed2857d6"
      },
      "execution_count": null,
      "outputs": [
        {
          "output_type": "execute_result",
          "data": {
            "text/plain": [
              "tensor([[0, 2, 0, 0, 0, 0],\n",
              "        [2, 1, 1, 0, 1, 0],\n",
              "        [2, 2, 0, 1, 2, 0],\n",
              "        [2, 0, 0, 1, 2, 0],\n",
              "        [2, 2, 0, 2, 1, 0]])"
            ]
          },
          "metadata": {},
          "execution_count": 32
        }
      ]
    },
    {
      "cell_type": "code",
      "source": [
        "a = torch.arange(1, 50 , 5)"
      ],
      "metadata": {
        "id": "luVhM9WCZxDv"
      },
      "execution_count": null,
      "outputs": []
    },
    {
      "cell_type": "code",
      "source": [
        "a"
      ],
      "metadata": {
        "colab": {
          "base_uri": "https://localhost:8080/"
        },
        "id": "iloCePzXxf73",
        "outputId": "c17e928d-ac22-4592-d466-3536b41f31f7"
      },
      "execution_count": null,
      "outputs": [
        {
          "output_type": "execute_result",
          "data": {
            "text/plain": [
              "tensor([ 1,  6, 11, 16, 21, 26, 31, 36, 41, 46])"
            ]
          },
          "metadata": {},
          "execution_count": 34
        }
      ]
    },
    {
      "cell_type": "code",
      "source": [
        "a.max()"
      ],
      "metadata": {
        "colab": {
          "base_uri": "https://localhost:8080/"
        },
        "id": "l4m4NRpAxgdk",
        "outputId": "96bbcc6d-54f3-4f93-cc1c-a4775cf75f99"
      },
      "execution_count": null,
      "outputs": [
        {
          "output_type": "execute_result",
          "data": {
            "text/plain": [
              "tensor(46)"
            ]
          },
          "metadata": {},
          "execution_count": 35
        }
      ]
    },
    {
      "cell_type": "code",
      "source": [
        "a.argmax()"
      ],
      "metadata": {
        "colab": {
          "base_uri": "https://localhost:8080/"
        },
        "id": "LaNd0Riqxihu",
        "outputId": "9af99ad1-12df-42d4-b7b9-2ca79831f3ee"
      },
      "execution_count": null,
      "outputs": [
        {
          "output_type": "execute_result",
          "data": {
            "text/plain": [
              "tensor(9)"
            ]
          },
          "metadata": {},
          "execution_count": 36
        }
      ]
    },
    {
      "cell_type": "code",
      "source": [
        "# a.mean()"
      ],
      "metadata": {
        "id": "gLdgqBthxja8"
      },
      "execution_count": null,
      "outputs": []
    },
    {
      "cell_type": "markdown",
      "source": [
        "RuntimeError                              Traceback (most recent call last)\n",
        "/tmp/ipython-input-1798845826.py in <cell line: 0>()\n",
        "----> 1 a.mean()\n",
        "\n",
        "RuntimeError: mean(): could not infer output dtype. Input dtype must be either a floating point or complex dtype. Got: Long\n"
      ],
      "metadata": {
        "id": "MPXA7juxyUkM"
      }
    },
    {
      "cell_type": "code",
      "source": [
        "a.type(torch.float32).mean()"
      ],
      "metadata": {
        "colab": {
          "base_uri": "https://localhost:8080/"
        },
        "id": "M1LgVb2jxmeI",
        "outputId": "b6741aa2-280d-47cc-c58b-af66ea6c8ea5"
      },
      "execution_count": null,
      "outputs": [
        {
          "output_type": "execute_result",
          "data": {
            "text/plain": [
              "tensor(23.5000)"
            ]
          },
          "metadata": {},
          "execution_count": 38
        }
      ]
    },
    {
      "cell_type": "code",
      "source": [
        "# a.type(torch.float32).argmean()"
      ],
      "metadata": {
        "id": "K1qmhTwtxsC7"
      },
      "execution_count": null,
      "outputs": []
    },
    {
      "cell_type": "markdown",
      "source": [
        "--------------------------------------------------------------------------\n",
        "AttributeError                            Traceback (most recent call last)\n",
        "/tmp/ipython-input-4161853244.py in <cell line: 0>()\n",
        "----> 1 a.type(torch.float32).argmean()\n",
        "\n",
        "AttributeError: 'Tensor' object has no attribute 'argmean'\n"
      ],
      "metadata": {
        "id": "jjLgU0m0yYVT"
      }
    },
    {
      "cell_type": "code",
      "source": [
        "a = torch.arange(0,120, 10)"
      ],
      "metadata": {
        "id": "AsRfX_spySxN"
      },
      "execution_count": null,
      "outputs": []
    },
    {
      "cell_type": "code",
      "source": [
        "a"
      ],
      "metadata": {
        "id": "kDXsdgtixyx4",
        "colab": {
          "base_uri": "https://localhost:8080/"
        },
        "outputId": "98bee357-e958-4b40-b89e-107957f84651"
      },
      "execution_count": null,
      "outputs": [
        {
          "output_type": "execute_result",
          "data": {
            "text/plain": [
              "tensor([  0,  10,  20,  30,  40,  50,  60,  70,  80,  90, 100, 110])"
            ]
          },
          "metadata": {},
          "execution_count": 41
        }
      ]
    },
    {
      "cell_type": "code",
      "source": [
        "a.size()"
      ],
      "metadata": {
        "colab": {
          "base_uri": "https://localhost:8080/"
        },
        "id": "7c9PjcHlZIQ0",
        "outputId": "8ede3ac8-16bf-4322-d927-2a7fe6d1fabc"
      },
      "execution_count": null,
      "outputs": [
        {
          "output_type": "execute_result",
          "data": {
            "text/plain": [
              "torch.Size([12])"
            ]
          },
          "metadata": {},
          "execution_count": 42
        }
      ]
    },
    {
      "cell_type": "code",
      "source": [
        "a.reshape(6 ,2)"
      ],
      "metadata": {
        "colab": {
          "base_uri": "https://localhost:8080/"
        },
        "id": "RtDq_gy9ZNmR",
        "outputId": "ed3005d0-a3cc-4e4e-838d-398b150deed1"
      },
      "execution_count": null,
      "outputs": [
        {
          "output_type": "execute_result",
          "data": {
            "text/plain": [
              "tensor([[  0,  10],\n",
              "        [ 20,  30],\n",
              "        [ 40,  50],\n",
              "        [ 60,  70],\n",
              "        [ 80,  90],\n",
              "        [100, 110]])"
            ]
          },
          "metadata": {},
          "execution_count": 43
        }
      ]
    },
    {
      "cell_type": "code",
      "source": [
        "a = a.reshape(2,6)\n",
        "a"
      ],
      "metadata": {
        "colab": {
          "base_uri": "https://localhost:8080/"
        },
        "id": "WKGPJlacA6FK",
        "outputId": "2e7ad8f4-c047-499b-b54f-c67f6a505aa1"
      },
      "execution_count": null,
      "outputs": [
        {
          "output_type": "execute_result",
          "data": {
            "text/plain": [
              "tensor([[  0,  10,  20,  30,  40,  50],\n",
              "        [ 60,  70,  80,  90, 100, 110]])"
            ]
          },
          "metadata": {},
          "execution_count": 44
        }
      ]
    },
    {
      "cell_type": "code",
      "source": [
        "a.t()"
      ],
      "metadata": {
        "colab": {
          "base_uri": "https://localhost:8080/"
        },
        "id": "Vk4sbuwSBBQE",
        "outputId": "f8a04f8a-cc76-44a6-e7cd-26558bf05ac6"
      },
      "execution_count": null,
      "outputs": [
        {
          "output_type": "execute_result",
          "data": {
            "text/plain": [
              "tensor([[  0,  60],\n",
              "        [ 10,  70],\n",
              "        [ 20,  80],\n",
              "        [ 30,  90],\n",
              "        [ 40, 100],\n",
              "        [ 50, 110]])"
            ]
          },
          "metadata": {},
          "execution_count": 45
        }
      ]
    },
    {
      "cell_type": "code",
      "source": [
        "a.reshape(3, 4)"
      ],
      "metadata": {
        "colab": {
          "base_uri": "https://localhost:8080/"
        },
        "id": "Ezu6mrwKBEgK",
        "outputId": "d2fdfd5d-8b99-4ec5-a55d-2c7b199df619"
      },
      "execution_count": null,
      "outputs": [
        {
          "output_type": "execute_result",
          "data": {
            "text/plain": [
              "tensor([[  0,  10,  20,  30],\n",
              "        [ 40,  50,  60,  70],\n",
              "        [ 80,  90, 100, 110]])"
            ]
          },
          "metadata": {},
          "execution_count": 46
        }
      ]
    },
    {
      "cell_type": "code",
      "source": [
        "a.t()"
      ],
      "metadata": {
        "colab": {
          "base_uri": "https://localhost:8080/"
        },
        "id": "Mj8F_q1DGY9L",
        "outputId": "93a0dc32-1f5e-4e8d-c5f4-f74fbb3215e5"
      },
      "execution_count": null,
      "outputs": [
        {
          "output_type": "execute_result",
          "data": {
            "text/plain": [
              "tensor([[  0,  60],\n",
              "        [ 10,  70],\n",
              "        [ 20,  80],\n",
              "        [ 30,  90],\n",
              "        [ 40, 100],\n",
              "        [ 50, 110]])"
            ]
          },
          "metadata": {},
          "execution_count": 47
        }
      ]
    },
    {
      "cell_type": "code",
      "source": [
        "a.is_contiguous()"
      ],
      "metadata": {
        "colab": {
          "base_uri": "https://localhost:8080/"
        },
        "id": "gc47KkuJGhl1",
        "outputId": "bc67cc4a-167c-4707-ccd1-a9e3e420bb44"
      },
      "execution_count": null,
      "outputs": [
        {
          "output_type": "execute_result",
          "data": {
            "text/plain": [
              "True"
            ]
          },
          "metadata": {},
          "execution_count": 48
        }
      ]
    },
    {
      "cell_type": "code",
      "source": [
        "trs = a.t()"
      ],
      "metadata": {
        "id": "RRTxr4XDGwFJ"
      },
      "execution_count": null,
      "outputs": []
    },
    {
      "cell_type": "code",
      "source": [
        "trs.is_contiguous()"
      ],
      "metadata": {
        "colab": {
          "base_uri": "https://localhost:8080/"
        },
        "id": "v2TfriuYGyPS",
        "outputId": "09b4f648-781f-4fd2-c70a-0326934ac36c"
      },
      "execution_count": null,
      "outputs": [
        {
          "output_type": "execute_result",
          "data": {
            "text/plain": [
              "False"
            ]
          },
          "metadata": {},
          "execution_count": 50
        }
      ]
    },
    {
      "cell_type": "code",
      "source": [
        "trs"
      ],
      "metadata": {
        "colab": {
          "base_uri": "https://localhost:8080/"
        },
        "id": "GE49ZNffGzzQ",
        "outputId": "1072c28a-b7c0-4143-d989-f0085374ce88"
      },
      "execution_count": null,
      "outputs": [
        {
          "output_type": "execute_result",
          "data": {
            "text/plain": [
              "tensor([[  0,  60],\n",
              "        [ 10,  70],\n",
              "        [ 20,  80],\n",
              "        [ 30,  90],\n",
              "        [ 40, 100],\n",
              "        [ 50, 110]])"
            ]
          },
          "metadata": {},
          "execution_count": 51
        }
      ]
    },
    {
      "cell_type": "code",
      "source": [
        "trs = trs.reshape(4, 3)"
      ],
      "metadata": {
        "id": "MTZSHbUCG1bU"
      },
      "execution_count": null,
      "outputs": []
    },
    {
      "cell_type": "code",
      "source": [
        "trs.is_contiguous()"
      ],
      "metadata": {
        "colab": {
          "base_uri": "https://localhost:8080/"
        },
        "id": "Zbaj-Ez6G41Q",
        "outputId": "7a040da7-b8d6-4fb8-8751-7e69fba146be"
      },
      "execution_count": null,
      "outputs": [
        {
          "output_type": "execute_result",
          "data": {
            "text/plain": [
              "True"
            ]
          },
          "metadata": {},
          "execution_count": 53
        }
      ]
    },
    {
      "cell_type": "code",
      "source": [
        "trs.view(1, 12)"
      ],
      "metadata": {
        "colab": {
          "base_uri": "https://localhost:8080/"
        },
        "id": "3EfXOmJDG-nD",
        "outputId": "09f00950-a0a5-4457-88ff-74b18419752b"
      },
      "execution_count": null,
      "outputs": [
        {
          "output_type": "execute_result",
          "data": {
            "text/plain": [
              "tensor([[  0,  60,  10,  70,  20,  80,  30,  90,  40, 100,  50, 110]])"
            ]
          },
          "metadata": {},
          "execution_count": 54
        }
      ]
    },
    {
      "cell_type": "markdown",
      "source": [
        "🔹 Example (contiguous tensor)\n",
        "import torch\n",
        "\n",
        "x = torch.arange(6)        # [0,1,2,3,4,5]\n",
        "y = x.view(2, 3)           # shape (2,3)\n",
        "\n",
        "print(y)\n",
        "print(y.is_contiguous())   # True ✅\n",
        "\n",
        "\n",
        "Here, memory is [0,1,2,3,4,5] → fits perfectly into rows [[0,1,2],[3,4,5]].\n",
        "\n",
        "🔹 Non-contiguous example\n",
        "\n",
        "If you take a slice or transpose, the underlying memory layout may no longer be sequential:\n",
        "\n",
        "z = y.t()                 # transpose\n",
        "print(z.is_contiguous())  # False ❌\n",
        "\n",
        "\n",
        "Now, the elements are still referencing the same memory block, but the stride pattern changes — so the elements are not “lined up” sequentially.\n",
        "\n",
        "🔹 Why does it matter?\n",
        "\n",
        "Some operations (like .view()) need the tensor to be contiguous because they just reinterpret the memory layout without moving data.\n",
        "\n",
        "If it’s not contiguous, you’ll get an error.\n",
        "\n",
        "To fix it, you can call .contiguous(), which copies the data into a new, proper contiguous block:\n",
        "\n",
        "z_contig = z.contiguous()\n",
        "print(z_contig.is_contiguous())  # True ✅\n",
        "\n",
        "\n",
        "👉 In short:\n",
        "\n",
        "Contiguous = elements are stored sequentially in memory as expected by the shape.\n",
        "\n",
        "Non-contiguous = elements are stored with “jumps” (strides), often after slicing/transposing.\n",
        "\n",
        ".contiguous() = makes a copy so the tensor has a clean, sequential memory layout again."
      ],
      "metadata": {
        "id": "dcvLZlWIHb2t"
      }
    },
    {
      "cell_type": "code",
      "source": [
        "a = torch.arange(0 , 100 , 5)"
      ],
      "metadata": {
        "id": "TFFMuhupHBxX"
      },
      "execution_count": null,
      "outputs": []
    },
    {
      "cell_type": "code",
      "source": [
        "a"
      ],
      "metadata": {
        "colab": {
          "base_uri": "https://localhost:8080/"
        },
        "id": "IR2LmfRPM6sW",
        "outputId": "f3fdc4ab-b533-44a5-fd9c-8d5de63ba938"
      },
      "execution_count": null,
      "outputs": [
        {
          "output_type": "execute_result",
          "data": {
            "text/plain": [
              "tensor([ 0,  5, 10, 15, 20, 25, 30, 35, 40, 45, 50, 55, 60, 65, 70, 75, 80, 85,\n",
              "        90, 95])"
            ]
          },
          "metadata": {},
          "execution_count": 56
        }
      ]
    },
    {
      "cell_type": "code",
      "source": [
        "y= a.reshape(4, 5)"
      ],
      "metadata": {
        "id": "FFI2Pa8jM7P1"
      },
      "execution_count": null,
      "outputs": []
    },
    {
      "cell_type": "code",
      "source": [
        "y"
      ],
      "metadata": {
        "colab": {
          "base_uri": "https://localhost:8080/"
        },
        "id": "eNT_Y_oHM9BM",
        "outputId": "4e46eb47-b8fb-4b94-a3bc-10595769533a"
      },
      "execution_count": null,
      "outputs": [
        {
          "output_type": "execute_result",
          "data": {
            "text/plain": [
              "tensor([[ 0,  5, 10, 15, 20],\n",
              "        [25, 30, 35, 40, 45],\n",
              "        [50, 55, 60, 65, 70],\n",
              "        [75, 80, 85, 90, 95]])"
            ]
          },
          "metadata": {},
          "execution_count": 58
        }
      ]
    },
    {
      "cell_type": "code",
      "source": [
        "z = a.view(4, 5)"
      ],
      "metadata": {
        "id": "PVdU2YyVNAJN"
      },
      "execution_count": null,
      "outputs": []
    },
    {
      "cell_type": "code",
      "source": [
        "z"
      ],
      "metadata": {
        "colab": {
          "base_uri": "https://localhost:8080/"
        },
        "id": "KwXJkGZBNDko",
        "outputId": "44849669-d0c9-49fd-92e5-140086caf7d9"
      },
      "execution_count": null,
      "outputs": [
        {
          "output_type": "execute_result",
          "data": {
            "text/plain": [
              "tensor([[ 0,  5, 10, 15, 20],\n",
              "        [25, 30, 35, 40, 45],\n",
              "        [50, 55, 60, 65, 70],\n",
              "        [75, 80, 85, 90, 95]])"
            ]
          },
          "metadata": {},
          "execution_count": 60
        }
      ]
    },
    {
      "cell_type": "markdown",
      "source": [],
      "metadata": {
        "id": "0Xv4jaT8N7V1"
      }
    },
    {
      "cell_type": "code",
      "source": [
        "y[0,0] = 1"
      ],
      "metadata": {
        "id": "WUiXzas5NETd"
      },
      "execution_count": null,
      "outputs": []
    },
    {
      "cell_type": "code",
      "source": [
        "a"
      ],
      "metadata": {
        "colab": {
          "base_uri": "https://localhost:8080/"
        },
        "id": "Xfj7K_TrOJRp",
        "outputId": "b5c66224-5bc9-4b0a-8b36-b60258a1f69b"
      },
      "execution_count": null,
      "outputs": [
        {
          "output_type": "execute_result",
          "data": {
            "text/plain": [
              "tensor([ 1,  5, 10, 15, 20, 25, 30, 35, 40, 45, 50, 55, 60, 65, 70, 75, 80, 85,\n",
              "        90, 95])"
            ]
          },
          "metadata": {},
          "execution_count": 62
        }
      ]
    },
    {
      "cell_type": "code",
      "source": [
        "y[:, 0]"
      ],
      "metadata": {
        "colab": {
          "base_uri": "https://localhost:8080/"
        },
        "id": "dmWGCEWoONKa",
        "outputId": "ce7ab7ab-e3bf-4891-c105-ba1ebd049aff"
      },
      "execution_count": null,
      "outputs": [
        {
          "output_type": "execute_result",
          "data": {
            "text/plain": [
              "tensor([ 1, 25, 50, 75])"
            ]
          },
          "metadata": {},
          "execution_count": 63
        }
      ]
    },
    {
      "cell_type": "code",
      "source": [
        "a.squeeze()"
      ],
      "metadata": {
        "id": "BDmAy3g3fpFr",
        "colab": {
          "base_uri": "https://localhost:8080/"
        },
        "outputId": "98ebb594-f330-4e7b-87a2-bdd9529fd3b2"
      },
      "execution_count": null,
      "outputs": [
        {
          "output_type": "execute_result",
          "data": {
            "text/plain": [
              "tensor([ 1,  5, 10, 15, 20, 25, 30, 35, 40, 45, 50, 55, 60, 65, 70, 75, 80, 85,\n",
              "        90, 95])"
            ]
          },
          "metadata": {},
          "execution_count": 65
        }
      ]
    },
    {
      "cell_type": "code",
      "source": [
        "new = a.unsqueeze(1)"
      ],
      "metadata": {
        "id": "f_9AaWnBZvsx"
      },
      "execution_count": null,
      "outputs": []
    },
    {
      "cell_type": "code",
      "source": [
        "new.shape"
      ],
      "metadata": {
        "colab": {
          "base_uri": "https://localhost:8080/"
        },
        "id": "KY3Zx5D2Z0Lp",
        "outputId": "4235fe1e-918b-4aac-daaf-472718454564"
      },
      "execution_count": null,
      "outputs": [
        {
          "output_type": "execute_result",
          "data": {
            "text/plain": [
              "torch.Size([20, 1])"
            ]
          },
          "metadata": {},
          "execution_count": 73
        }
      ]
    },
    {
      "cell_type": "code",
      "source": [
        "a.shape"
      ],
      "metadata": {
        "colab": {
          "base_uri": "https://localhost:8080/"
        },
        "id": "EzvhKDq6aiv2",
        "outputId": "d70ec1c2-09b2-48ed-fc32-9deadc2b85ba"
      },
      "execution_count": null,
      "outputs": [
        {
          "output_type": "execute_result",
          "data": {
            "text/plain": [
              "torch.Size([20])"
            ]
          },
          "metadata": {},
          "execution_count": 74
        }
      ]
    },
    {
      "cell_type": "code",
      "source": [
        "import torch\n"
      ],
      "metadata": {
        "id": "CSzZhP86apzN"
      },
      "execution_count": 1,
      "outputs": []
    },
    {
      "cell_type": "code",
      "source": [],
      "metadata": {
        "id": "RlqNU5WhQ7Sg"
      },
      "execution_count": null,
      "outputs": []
    },
    {
      "cell_type": "code",
      "source": [
        "a = torch.randint(0, 5, size = (4, 5, 6))"
      ],
      "metadata": {
        "id": "lyt2_xLyQlm0"
      },
      "execution_count": 4,
      "outputs": []
    },
    {
      "cell_type": "code",
      "source": [
        "a"
      ],
      "metadata": {
        "colab": {
          "base_uri": "https://localhost:8080/"
        },
        "id": "iFfiHlzbQ47U",
        "outputId": "2b460ef8-63d4-4bb0-e24a-233154cf6c64"
      },
      "execution_count": 5,
      "outputs": [
        {
          "output_type": "execute_result",
          "data": {
            "text/plain": [
              "tensor([[[2, 2, 0, 1, 1, 0],\n",
              "         [1, 4, 1, 2, 4, 0],\n",
              "         [3, 4, 4, 2, 3, 0],\n",
              "         [3, 4, 2, 2, 1, 4],\n",
              "         [0, 2, 0, 0, 4, 1]],\n",
              "\n",
              "        [[2, 2, 3, 0, 3, 0],\n",
              "         [1, 3, 3, 0, 3, 2],\n",
              "         [3, 3, 0, 4, 2, 3],\n",
              "         [1, 3, 4, 3, 3, 1],\n",
              "         [4, 1, 3, 0, 1, 3]],\n",
              "\n",
              "        [[0, 2, 2, 1, 3, 0],\n",
              "         [0, 0, 3, 0, 2, 2],\n",
              "         [2, 0, 0, 3, 3, 2],\n",
              "         [4, 2, 0, 0, 0, 4],\n",
              "         [3, 3, 0, 1, 1, 1]],\n",
              "\n",
              "        [[4, 3, 4, 2, 4, 1],\n",
              "         [0, 1, 2, 2, 1, 2],\n",
              "         [3, 2, 3, 2, 0, 3],\n",
              "         [3, 0, 1, 0, 0, 0],\n",
              "         [0, 1, 3, 1, 3, 2]]])"
            ]
          },
          "metadata": {},
          "execution_count": 5
        }
      ]
    },
    {
      "cell_type": "code",
      "source": [
        "a.permute((1, 0 , 2))"
      ],
      "metadata": {
        "colab": {
          "base_uri": "https://localhost:8080/"
        },
        "id": "Zpz3G2mwQ5g9",
        "outputId": "b350f684-19db-485a-e058-def540bbb36b"
      },
      "execution_count": 6,
      "outputs": [
        {
          "output_type": "execute_result",
          "data": {
            "text/plain": [
              "tensor([[[2, 2, 0, 1, 1, 0],\n",
              "         [2, 2, 3, 0, 3, 0],\n",
              "         [0, 2, 2, 1, 3, 0],\n",
              "         [4, 3, 4, 2, 4, 1]],\n",
              "\n",
              "        [[1, 4, 1, 2, 4, 0],\n",
              "         [1, 3, 3, 0, 3, 2],\n",
              "         [0, 0, 3, 0, 2, 2],\n",
              "         [0, 1, 2, 2, 1, 2]],\n",
              "\n",
              "        [[3, 4, 4, 2, 3, 0],\n",
              "         [3, 3, 0, 4, 2, 3],\n",
              "         [2, 0, 0, 3, 3, 2],\n",
              "         [3, 2, 3, 2, 0, 3]],\n",
              "\n",
              "        [[3, 4, 2, 2, 1, 4],\n",
              "         [1, 3, 4, 3, 3, 1],\n",
              "         [4, 2, 0, 0, 0, 4],\n",
              "         [3, 0, 1, 0, 0, 0]],\n",
              "\n",
              "        [[0, 2, 0, 0, 4, 1],\n",
              "         [4, 1, 3, 0, 1, 3],\n",
              "         [3, 3, 0, 1, 1, 1],\n",
              "         [0, 1, 3, 1, 3, 2]]])"
            ]
          },
          "metadata": {},
          "execution_count": 6
        }
      ]
    },
    {
      "cell_type": "code",
      "source": [
        "a"
      ],
      "metadata": {
        "colab": {
          "base_uri": "https://localhost:8080/"
        },
        "id": "PNf30nnjRG2B",
        "outputId": "cf763674-1585-4cec-f568-20f0442c5b0c"
      },
      "execution_count": 7,
      "outputs": [
        {
          "output_type": "execute_result",
          "data": {
            "text/plain": [
              "tensor([[[2, 2, 0, 1, 1, 0],\n",
              "         [1, 4, 1, 2, 4, 0],\n",
              "         [3, 4, 4, 2, 3, 0],\n",
              "         [3, 4, 2, 2, 1, 4],\n",
              "         [0, 2, 0, 0, 4, 1]],\n",
              "\n",
              "        [[2, 2, 3, 0, 3, 0],\n",
              "         [1, 3, 3, 0, 3, 2],\n",
              "         [3, 3, 0, 4, 2, 3],\n",
              "         [1, 3, 4, 3, 3, 1],\n",
              "         [4, 1, 3, 0, 1, 3]],\n",
              "\n",
              "        [[0, 2, 2, 1, 3, 0],\n",
              "         [0, 0, 3, 0, 2, 2],\n",
              "         [2, 0, 0, 3, 3, 2],\n",
              "         [4, 2, 0, 0, 0, 4],\n",
              "         [3, 3, 0, 1, 1, 1]],\n",
              "\n",
              "        [[4, 3, 4, 2, 4, 1],\n",
              "         [0, 1, 2, 2, 1, 2],\n",
              "         [3, 2, 3, 2, 0, 3],\n",
              "         [3, 0, 1, 0, 0, 0],\n",
              "         [0, 1, 3, 1, 3, 2]]])"
            ]
          },
          "metadata": {},
          "execution_count": 7
        }
      ]
    },
    {
      "cell_type": "code",
      "source": [
        "a[: , : , 0  ]"
      ],
      "metadata": {
        "colab": {
          "base_uri": "https://localhost:8080/"
        },
        "id": "0QTfSE1VUcrm",
        "outputId": "b1f71e53-e687-4113-f39b-f9e0c19704eb"
      },
      "execution_count": 13,
      "outputs": [
        {
          "output_type": "execute_result",
          "data": {
            "text/plain": [
              "tensor([[2, 1, 3, 3, 0],\n",
              "        [2, 1, 3, 1, 4],\n",
              "        [0, 0, 2, 4, 3],\n",
              "        [4, 0, 3, 3, 0]])"
            ]
          },
          "metadata": {},
          "execution_count": 13
        }
      ]
    },
    {
      "cell_type": "code",
      "source": [],
      "metadata": {
        "id": "QMv-H7NMUgB2"
      },
      "execution_count": null,
      "outputs": []
    }
  ]
}