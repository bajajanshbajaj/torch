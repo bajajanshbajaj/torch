{
  "nbformat": 4,
  "nbformat_minor": 0,
  "metadata": {
    "colab": {
      "provenance": [],
      "authorship_tag": "ABX9TyOSce9qxK6cb+JOZDLAxQVN"
    },
    "kernelspec": {
      "name": "python3",
      "display_name": "Python 3"
    },
    "language_info": {
      "name": "python"
    }
  },
  "cells": [
    {
      "cell_type": "code",
      "execution_count": null,
      "metadata": {
        "id": "qPcTojjlHEAI"
      },
      "outputs": [],
      "source": [
        "import torch"
      ]
    },
    {
      "cell_type": "code",
      "source": [
        "scalar = torch.tensor(5)"
      ],
      "metadata": {
        "id": "2tDOPlNOTGBi"
      },
      "execution_count": null,
      "outputs": []
    },
    {
      "cell_type": "code",
      "source": [
        "scalar"
      ],
      "metadata": {
        "colab": {
          "base_uri": "https://localhost:8080/"
        },
        "id": "lAKQjscOUAEl",
        "outputId": "f42ff334-f9a0-48bf-ca60-872c2ee576f8"
      },
      "execution_count": null,
      "outputs": [
        {
          "output_type": "execute_result",
          "data": {
            "text/plain": [
              "tensor(5)"
            ]
          },
          "metadata": {},
          "execution_count": 4
        }
      ]
    },
    {
      "cell_type": "code",
      "source": [
        "scalar.shape"
      ],
      "metadata": {
        "colab": {
          "base_uri": "https://localhost:8080/"
        },
        "id": "D067LN5_UCxa",
        "outputId": "91a507bc-f34f-48e1-8484-468b095b92df"
      },
      "execution_count": null,
      "outputs": [
        {
          "output_type": "execute_result",
          "data": {
            "text/plain": [
              "torch.Size([])"
            ]
          },
          "metadata": {},
          "execution_count": 5
        }
      ]
    },
    {
      "cell_type": "code",
      "source": [
        "scalar.ndim"
      ],
      "metadata": {
        "colab": {
          "base_uri": "https://localhost:8080/"
        },
        "id": "kmi5-MJ4UEp6",
        "outputId": "8c4bdd3a-8cf3-4edf-c800-5afba0cbe9c3"
      },
      "execution_count": null,
      "outputs": [
        {
          "output_type": "execute_result",
          "data": {
            "text/plain": [
              "0"
            ]
          },
          "metadata": {},
          "execution_count": 6
        }
      ]
    },
    {
      "cell_type": "code",
      "source": [
        "random_tensor = torch.rand(4,7,8)"
      ],
      "metadata": {
        "id": "LtLs8UFYrEsW"
      },
      "execution_count": 7,
      "outputs": []
    },
    {
      "cell_type": "code",
      "source": [
        "random_tensor.ndim"
      ],
      "metadata": {
        "colab": {
          "base_uri": "https://localhost:8080/"
        },
        "id": "Gtvb1yHAtXBL",
        "outputId": "9bc9b6a5-3538-47a0-8f3c-6eaa4c01138a"
      },
      "execution_count": 9,
      "outputs": [
        {
          "output_type": "execute_result",
          "data": {
            "text/plain": [
              "3"
            ]
          },
          "metadata": {},
          "execution_count": 9
        }
      ]
    },
    {
      "cell_type": "code",
      "source": [
        "torch.zeros(size = (5,6), dtype= torch.int16  ),"
      ],
      "metadata": {
        "colab": {
          "base_uri": "https://localhost:8080/"
        },
        "id": "fjQQWfG_tgLq",
        "outputId": "072c2268-f9b8-490c-90e5-5654144a8044"
      },
      "execution_count": 13,
      "outputs": [
        {
          "output_type": "execute_result",
          "data": {
            "text/plain": [
              "(tensor([[0, 0, 0, 0, 0, 0],\n",
              "         [0, 0, 0, 0, 0, 0],\n",
              "         [0, 0, 0, 0, 0, 0],\n",
              "         [0, 0, 0, 0, 0, 0],\n",
              "         [0, 0, 0, 0, 0, 0]], dtype=torch.int16),)"
            ]
          },
          "metadata": {},
          "execution_count": 13
        }
      ]
    },
    {
      "cell_type": "code",
      "source": [
        "torch.arange(0,25,5)"
      ],
      "metadata": {
        "colab": {
          "base_uri": "https://localhost:8080/"
        },
        "id": "Juqyssftt0xG",
        "outputId": "ef4f3ee1-d230-4397-feec-726236d92095"
      },
      "execution_count": 14,
      "outputs": [
        {
          "output_type": "execute_result",
          "data": {
            "text/plain": [
              "tensor([ 0,  5, 10, 15, 20])"
            ]
          },
          "metadata": {},
          "execution_count": 14
        }
      ]
    },
    {
      "cell_type": "code",
      "source": [
        "torch.zeros_like(torch.arange(0,25,5))"
      ],
      "metadata": {
        "colab": {
          "base_uri": "https://localhost:8080/"
        },
        "id": "1weOZl2duEU4",
        "outputId": "46a26313-713b-4921-81f8-d15b8a5028da"
      },
      "execution_count": 17,
      "outputs": [
        {
          "output_type": "execute_result",
          "data": {
            "text/plain": [
              "tensor([0, 0, 0, 0, 0])"
            ]
          },
          "metadata": {},
          "execution_count": 17
        }
      ]
    },
    {
      "cell_type": "code",
      "source": [
        "random_tensor"
      ],
      "metadata": {
        "colab": {
          "base_uri": "https://localhost:8080/"
        },
        "id": "41Ts87AtuQGG",
        "outputId": "009f5a00-b55f-4869-c730-fffe9d9b4211"
      },
      "execution_count": 19,
      "outputs": [
        {
          "output_type": "execute_result",
          "data": {
            "text/plain": [
              "tensor([[[0.5478, 0.6371, 0.5259, 0.0778, 0.5826, 0.1539, 0.0099, 0.5182],\n",
              "         [0.9708, 0.4170, 0.6425, 0.7400, 0.7021, 0.0735, 0.3108, 0.8794],\n",
              "         [0.0064, 0.2362, 0.8393, 0.3338, 0.8914, 0.4769, 0.1689, 0.1615],\n",
              "         [0.0211, 0.1319, 0.9422, 0.2628, 0.6288, 0.6592, 0.2279, 0.4718],\n",
              "         [0.6850, 0.9764, 0.7688, 0.4960, 0.0506, 0.4026, 0.5418, 0.3569],\n",
              "         [0.7136, 0.8110, 0.0145, 0.8618, 0.9028, 0.4152, 0.1749, 0.1341],\n",
              "         [0.9468, 0.6245, 0.6759, 0.0110, 0.1440, 0.3171, 0.8920, 0.4254]],\n",
              "\n",
              "        [[0.8097, 0.3910, 0.1731, 0.9962, 0.9379, 0.6177, 0.1378, 0.6734],\n",
              "         [0.6772, 0.4776, 0.5117, 0.2102, 0.0020, 0.2331, 0.9176, 0.7134],\n",
              "         [0.5236, 0.9331, 0.9209, 0.1387, 0.7977, 0.5682, 0.9661, 0.9243],\n",
              "         [0.8008, 0.2272, 0.5745, 0.3072, 0.8360, 0.1647, 0.7103, 0.4107],\n",
              "         [0.7282, 0.3736, 0.5383, 0.9032, 0.2647, 0.8498, 0.0709, 0.8675],\n",
              "         [0.0775, 0.2813, 0.2634, 0.2848, 0.0464, 0.2796, 0.6364, 0.2935],\n",
              "         [0.1637, 0.4259, 0.2008, 0.8278, 0.1313, 0.4394, 0.9037, 0.3564]],\n",
              "\n",
              "        [[0.6514, 0.3525, 0.7437, 0.5333, 0.8366, 0.5625, 0.1516, 0.6891],\n",
              "         [0.2183, 0.4398, 0.2455, 0.3122, 0.6644, 0.9401, 0.5757, 0.7680],\n",
              "         [0.0936, 0.9569, 0.2215, 0.1807, 0.9678, 0.9322, 0.6503, 0.2809],\n",
              "         [0.3115, 0.5296, 0.9192, 0.8071, 0.9182, 0.8821, 0.2382, 0.3792],\n",
              "         [0.8894, 0.3976, 0.0326, 0.4472, 0.4353, 0.9518, 0.5803, 0.8143],\n",
              "         [0.7956, 0.4642, 0.7046, 0.6883, 0.3191, 0.3422, 0.7250, 0.2701],\n",
              "         [0.4120, 0.9245, 0.7893, 0.7685, 0.8664, 0.1003, 0.2069, 0.4992]],\n",
              "\n",
              "        [[0.3071, 0.4533, 0.6094, 0.4027, 0.3706, 0.5421, 0.5572, 0.1231],\n",
              "         [0.5265, 0.4491, 0.1865, 0.5367, 0.9519, 0.8519, 0.1360, 0.6698],\n",
              "         [0.6895, 0.0261, 0.8089, 0.9368, 0.0916, 0.2020, 0.3531, 0.7548],\n",
              "         [0.3462, 0.2785, 0.3907, 0.3028, 0.7797, 0.4283, 0.7918, 0.8698],\n",
              "         [0.1420, 0.1119, 0.3488, 0.8816, 0.0314, 0.4986, 0.6831, 0.8922],\n",
              "         [0.0810, 0.9402, 0.1362, 0.1189, 0.3088, 0.8721, 0.1939, 0.4710],\n",
              "         [0.6962, 0.3739, 0.6871, 0.8732, 0.8292, 0.7483, 0.5419, 0.4052]]])"
            ]
          },
          "metadata": {},
          "execution_count": 19
        }
      ]
    },
    {
      "cell_type": "code",
      "source": [
        "random_tensor.dtype"
      ],
      "metadata": {
        "id": "3vJS2iGAvQsv",
        "colab": {
          "base_uri": "https://localhost:8080/"
        },
        "outputId": "ceacaa12-5a78-4958-d1f3-0a69e6f9ae39"
      },
      "execution_count": 27,
      "outputs": [
        {
          "output_type": "execute_result",
          "data": {
            "text/plain": [
              "torch.float32"
            ]
          },
          "metadata": {},
          "execution_count": 27
        }
      ]
    },
    {
      "cell_type": "code",
      "source": [
        "a= torch.randint(size = (4, 6), high=4)"
      ],
      "metadata": {
        "id": "478cAd-rw0FF"
      },
      "execution_count": 34,
      "outputs": []
    },
    {
      "cell_type": "code",
      "source": [
        "a"
      ],
      "metadata": {
        "colab": {
          "base_uri": "https://localhost:8080/"
        },
        "id": "5oYrLI8U1vD9",
        "outputId": "92437e30-f343-4ea7-8c23-82058909266a"
      },
      "execution_count": 40,
      "outputs": [
        {
          "output_type": "execute_result",
          "data": {
            "text/plain": [
              "tensor([[2, 1, 1, 3, 3, 1],\n",
              "        [3, 3, 1, 3, 1, 2],\n",
              "        [3, 1, 2, 1, 1, 2],\n",
              "        [3, 2, 2, 2, 1, 3]])"
            ]
          },
          "metadata": {},
          "execution_count": 40
        }
      ]
    },
    {
      "cell_type": "code",
      "source": [
        "b= torch.randint(size = (1, 6), high = 3)"
      ],
      "metadata": {
        "id": "T7zSxYdYw7zq"
      },
      "execution_count": 41,
      "outputs": []
    },
    {
      "cell_type": "code",
      "source": [
        "b"
      ],
      "metadata": {
        "colab": {
          "base_uri": "https://localhost:8080/"
        },
        "id": "NxFwXdYY1Uos",
        "outputId": "d5c54c05-f723-447c-8dfb-d086335d7536"
      },
      "execution_count": 42,
      "outputs": [
        {
          "output_type": "execute_result",
          "data": {
            "text/plain": [
              "tensor([[0, 2, 0, 2, 2, 2]])"
            ]
          },
          "metadata": {},
          "execution_count": 42
        }
      ]
    },
    {
      "cell_type": "code",
      "source": [
        "a*b"
      ],
      "metadata": {
        "colab": {
          "base_uri": "https://localhost:8080/"
        },
        "id": "Z9aGmC4V1Vvt",
        "outputId": "aeaa871c-28a6-422c-cca1-af6af9e7513f"
      },
      "execution_count": 43,
      "outputs": [
        {
          "output_type": "execute_result",
          "data": {
            "text/plain": [
              "tensor([[0, 2, 0, 6, 6, 2],\n",
              "        [0, 6, 0, 6, 2, 4],\n",
              "        [0, 2, 0, 2, 2, 4],\n",
              "        [0, 4, 0, 4, 2, 6]])"
            ]
          },
          "metadata": {},
          "execution_count": 43
        }
      ]
    },
    {
      "cell_type": "code",
      "source": [
        "c= torch.randint(size = (6,), high = 4, low =1)\n",
        "c"
      ],
      "metadata": {
        "colab": {
          "base_uri": "https://localhost:8080/"
        },
        "id": "q9ph-FLs11nY",
        "outputId": "4271a66a-9efe-40c7-f63c-174f225cf6d9"
      },
      "execution_count": 47,
      "outputs": [
        {
          "output_type": "execute_result",
          "data": {
            "text/plain": [
              "tensor([3, 1, 1, 3, 2, 3])"
            ]
          },
          "metadata": {},
          "execution_count": 47
        }
      ]
    },
    {
      "cell_type": "code",
      "source": [
        "a*c"
      ],
      "metadata": {
        "colab": {
          "base_uri": "https://localhost:8080/"
        },
        "id": "Xqx8WuVX2Ars",
        "outputId": "f53b1dd2-6612-48e5-8c99-d6c5a80ccc6e"
      },
      "execution_count": 48,
      "outputs": [
        {
          "output_type": "execute_result",
          "data": {
            "text/plain": [
              "tensor([[6, 1, 1, 9, 6, 3],\n",
              "        [9, 3, 1, 9, 2, 6],\n",
              "        [9, 1, 2, 3, 2, 6],\n",
              "        [9, 2, 2, 6, 2, 9]])"
            ]
          },
          "metadata": {},
          "execution_count": 48
        }
      ]
    },
    {
      "cell_type": "code",
      "source": [
        "d = torch.randint( size = (4,1), high = 6)\n",
        "d"
      ],
      "metadata": {
        "colab": {
          "base_uri": "https://localhost:8080/"
        },
        "id": "ETZZowXA2EUC",
        "outputId": "694d3d65-3196-41a0-c293-936d5685a563"
      },
      "execution_count": 50,
      "outputs": [
        {
          "output_type": "execute_result",
          "data": {
            "text/plain": [
              "tensor([[3],\n",
              "        [0],\n",
              "        [5],\n",
              "        [0]])"
            ]
          },
          "metadata": {},
          "execution_count": 50
        }
      ]
    },
    {
      "cell_type": "code",
      "source": [
        "d*a"
      ],
      "metadata": {
        "colab": {
          "base_uri": "https://localhost:8080/"
        },
        "id": "vjWPMBba2XRD",
        "outputId": "46b6870a-ebaf-44f2-f248-93710b1e067d"
      },
      "execution_count": 51,
      "outputs": [
        {
          "output_type": "execute_result",
          "data": {
            "text/plain": [
              "tensor([[ 6,  3,  3,  9,  9,  3],\n",
              "        [ 0,  0,  0,  0,  0,  0],\n",
              "        [15,  5, 10,  5,  5, 10],\n",
              "        [ 0,  0,  0,  0,  0,  0]])"
            ]
          },
          "metadata": {},
          "execution_count": 51
        }
      ]
    },
    {
      "cell_type": "code",
      "source": [
        "a *d"
      ],
      "metadata": {
        "colab": {
          "base_uri": "https://localhost:8080/"
        },
        "id": "bO6I4hUJ2ZPI",
        "outputId": "7d69ce9f-579b-45d9-f0d6-8760c71d8308"
      },
      "execution_count": 52,
      "outputs": [
        {
          "output_type": "execute_result",
          "data": {
            "text/plain": [
              "tensor([[ 6,  3,  3,  9,  9,  3],\n",
              "        [ 0,  0,  0,  0,  0,  0],\n",
              "        [15,  5, 10,  5,  5, 10],\n",
              "        [ 0,  0,  0,  0,  0,  0]])"
            ]
          },
          "metadata": {},
          "execution_count": 52
        }
      ]
    },
    {
      "cell_type": "markdown",
      "source": [
        "<iframe src=\"https://docs.pytorch.org/docs/stable/notes/broadcasting.html\" width=\"800\" height=\"400\"></iframe>"
      ],
      "metadata": {
        "id": "o-JjhY-_99cc"
      }
    },
    {
      "cell_type": "code",
      "source": [
        "from IPython.display import IFrame\n",
        "\n",
        "# Example: render Wikipedia\n",
        "IFrame(\"https://docs.pytorch.org/docs/stable/notes/broadcasting.html\", width=1080, height=600)"
      ],
      "metadata": {
        "colab": {
          "base_uri": "https://localhost:8080/",
          "height": 641
        },
        "id": "2NL2VTpT-pW4",
        "outputId": "21f12abc-dfbb-4654-c1c1-55cee3c66baf"
      },
      "execution_count": 60,
      "outputs": [
        {
          "output_type": "execute_result",
          "data": {
            "text/plain": [
              "<IPython.lib.display.IFrame at 0x7a9866b8c950>"
            ],
            "text/html": [
              "\n",
              "        <iframe\n",
              "            width=\"1080\"\n",
              "            height=\"600\"\n",
              "            src=\"https://docs.pytorch.org/docs/stable/notes/broadcasting.html\"\n",
              "            frameborder=\"0\"\n",
              "            allowfullscreen\n",
              "            \n",
              "        ></iframe>\n",
              "        "
            ]
          },
          "metadata": {},
          "execution_count": 60
        }
      ]
    },
    {
      "cell_type": "code",
      "source": [],
      "metadata": {
        "id": "pKeMHcHD-5kj"
      },
      "execution_count": null,
      "outputs": []
    }
  ]
}